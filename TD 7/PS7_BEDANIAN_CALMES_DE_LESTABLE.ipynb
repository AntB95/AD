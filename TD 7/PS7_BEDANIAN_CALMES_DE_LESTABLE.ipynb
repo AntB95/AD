{
 "cells": [
  {
   "cell_type": "markdown",
   "metadata": {},
   "source": [
    "# Problem Set 7"
   ]
  },
  {
   "cell_type": "markdown",
   "metadata": {},
   "source": [
    "#### Antoine BEDANIAN Shana CALMES Nicolas de LESTABLE"
   ]
  },
  {
   "cell_type": "code",
   "execution_count": 1,
   "metadata": {},
   "outputs": [],
   "source": [
    "#import\n",
    "import numpy as np \n",
    "import random as rd\n",
    "import matplotlib.pyplot as plt\n",
    "rd.seed(666)"
   ]
  },
  {
   "cell_type": "code",
   "execution_count": 2,
   "metadata": {},
   "outputs": [],
   "source": [
    "#def function to do the max between (A-K,0)\n",
    "def max_z(a):\n",
    "    res = np.array([])\n",
    "    for k in range(0,len(a)):\n",
    "        if a[k] > 0:\n",
    "            res = np.append(res,a[k])\n",
    "        else:\n",
    "            res = np.append(res,0)\n",
    "    return res"
   ]
  },
  {
   "cell_type": "markdown",
   "metadata": {},
   "source": [
    "### Question 1)"
   ]
  },
  {
   "cell_type": "code",
   "execution_count": 3,
   "metadata": {},
   "outputs": [],
   "source": [
    "#parameters\n",
    "S0 = 100\n",
    "K = 98\n",
    "T = [0,0.25,0.5,0.75,1]\n",
    "dt = 0.25\n",
    "r = 0\n",
    "q = 0.02\n",
    "#q1 sigma cst = 23%\n",
    "sigma = 0.23\n",
    "N = 1000\n",
    "n = len(T)\n",
    "#matrix N*5\n",
    "S = np.zeros((N,n))\n",
    "S[:,0] = S0"
   ]
  },
  {
   "cell_type": "code",
   "execution_count": 4,
   "metadata": {},
   "outputs": [],
   "source": [
    "#compute S using BS formula\n",
    "for i in range(0,N):\n",
    "    t = 0 \n",
    "    W = 0 \n",
    "    for j in range(1,n):\n",
    "        t += dt\n",
    "        # brownian change -> N(0,dt)\n",
    "        W += np.random.normal(0,np.sqrt(dt))\n",
    "        S[i,j] = S0*np.exp((r-0.5*sigma**2)*t+sigma*W)       "
   ]
  },
  {
   "cell_type": "code",
   "execution_count": 5,
   "metadata": {},
   "outputs": [],
   "source": [
    "# Compute A for t1 t2 t3 t3\n",
    "A = np.zeros((N,n-1))\n",
    "A[:,0] = S[:,1]\n",
    "A[:,1] = (S[:,1] + S[:,2])/2\n",
    "A[:,2] = (S[:,1] + S[:,2] + S[:,3])/3\n",
    "A[:,3] = (S[:,1] + S[:,2] + S[:,3] + S[:,4])/4"
   ]
  },
  {
   "cell_type": "code",
   "execution_count": 6,
   "metadata": {},
   "outputs": [],
   "source": [
    "C = np.zeros((N,n))\n",
    "C[:,n-1] = max_z(K-S[:,n-1])"
   ]
  },
  {
   "cell_type": "code",
   "execution_count": 7,
   "metadata": {},
   "outputs": [],
   "source": [
    "for i in range(1,n):\n",
    "    # using a cst S,S^2,S^3,A,A^2,A^3\n",
    "    X = np.array([np.ones(N),S[:,n-1-i],S[:,n-1-i]**2,S[:,n-1-i]**3,A[:,n-1-i],A[:,n-1-i]**2,A[:,n-1-i]**3]).T\n",
    "    Y = np.sum(C,axis = 1)\n",
    "    beta = np.dot(np.linalg.inv(np.dot(X.T,X)),np.dot(X.T,Y))\n",
    "    Y_reg = np.dot(X,beta)\n",
    "    stop = max_z(K-S[:,n-1-i]) > Y_reg\n",
    "    C[:,n-1-i] = max_z(K-S[:,n-1-i])*stop\n",
    "    for j in range(0,N):\n",
    "        if (C[j,n-i] > 0) and (stop[j] == True):\n",
    "            C[j,n-i] = 0"
   ]
  },
  {
   "cell_type": "code",
   "execution_count": 8,
   "metadata": {},
   "outputs": [
    {
     "data": {
      "text/plain": [
       "9.8610285630179"
      ]
     },
     "execution_count": 8,
     "metadata": {},
     "output_type": "execute_result"
    }
   ],
   "source": [
    "price = sum(sum(C))/N\n",
    "price"
   ]
  },
  {
   "cell_type": "markdown",
   "metadata": {},
   "source": [
    "### Question 2)"
   ]
  },
  {
   "cell_type": "code",
   "execution_count": 9,
   "metadata": {},
   "outputs": [],
   "source": [
    "# we generate a matrix of volatility between 5% and 50% \n",
    "sigma_m = np.random.uniform(low=0.05, high=0.5, size= (N,n))"
   ]
  },
  {
   "cell_type": "code",
   "execution_count": 10,
   "metadata": {},
   "outputs": [],
   "source": [
    "#compute S using BS formula and a non cst vol\n",
    "#matrix N*5\n",
    "S2 = np.zeros((N,n))\n",
    "S2[:,0] = S0\n",
    "for i in range(0,N):\n",
    "    t = 0 \n",
    "    W = 0 \n",
    "    for j in range(1,n):\n",
    "        t += dt\n",
    "        # brownian change -> N(0,dt)\n",
    "        W += np.random.normal(0,np.sqrt(dt))\n",
    "        S2[i,j] = S0*np.exp((r-0.5*sigma_m[i,j]**2)*t+sigma_m[i,j]*W) "
   ]
  },
  {
   "cell_type": "code",
   "execution_count": 11,
   "metadata": {},
   "outputs": [],
   "source": [
    "# Compute A for t1 t2 t3 t3\n",
    "A2 = np.zeros((N,n-1))\n",
    "A2[:,0] = S2[:,1]\n",
    "A2[:,1] = (S2[:,1] + S2[:,2])/2\n",
    "A2[:,2] = (S2[:,1] + S2[:,2] + S2[:,3])/3\n",
    "A2[:,3] = (S2[:,1] + S2[:,2] + S2[:,3] + S2[:,4])/4"
   ]
  },
  {
   "cell_type": "code",
   "execution_count": 12,
   "metadata": {},
   "outputs": [],
   "source": [
    "#New price \n",
    "C2 = np.zeros((N,n))\n",
    "C2[:,n-1] = max_z(K-S2[:,n-1])"
   ]
  },
  {
   "cell_type": "code",
   "execution_count": 13,
   "metadata": {},
   "outputs": [],
   "source": [
    "for i in range(1,n):\n",
    "    X2 = np.array([np.ones(N),S2[:,n-1-i],S2[:,n-1-i]**2,S2[:,n-1-i]**3,A2[:,n-1-i],A2[:,n-1-i]**2,A2[:,n-1-i]**3]).T\n",
    "    Y2 = np.sum(C2,axis = 1)\n",
    "    beta2 = np.dot(np.linalg.inv(np.dot(X2.T,X2)),np.dot(X2.T,Y2))\n",
    "    Y_reg2 = np.dot(X2,beta2)\n",
    "    stop2 = max_z(K-S2[:,n-1-i]) > Y_reg2\n",
    "    C2[:,n-1-i] = max_z(K-S2[:,n-1-i])*stop2\n",
    "    for j in range(0,N):\n",
    "        if (C2[j,n-i] > 0) and (stop2[j] == True):\n",
    "            C2[j,n-i] = 0"
   ]
  },
  {
   "cell_type": "code",
   "execution_count": 14,
   "metadata": {},
   "outputs": [
    {
     "data": {
      "text/plain": [
       "16.12156524812034"
      ]
     },
     "execution_count": 14,
     "metadata": {},
     "output_type": "execute_result"
    }
   ],
   "source": [
    "price2 = sum(sum(C2))/N\n",
    "price2"
   ]
  }
 ],
 "metadata": {
  "kernelspec": {
   "display_name": "Python 3",
   "language": "python",
   "name": "python3"
  },
  "language_info": {
   "codemirror_mode": {
    "name": "ipython",
    "version": 3
   },
   "file_extension": ".py",
   "mimetype": "text/x-python",
   "name": "python",
   "nbconvert_exporter": "python",
   "pygments_lexer": "ipython3",
   "version": "3.7.3"
  }
 },
 "nbformat": 4,
 "nbformat_minor": 2
}
